{
  "nbformat": 4,
  "nbformat_minor": 0,
  "metadata": {
    "colab": {
      "provenance": []
    },
    "kernelspec": {
      "name": "python3",
      "display_name": "Python 3"
    },
    "language_info": {
      "name": "python"
    }
  },
  "cells": [
    {
      "cell_type": "markdown",
      "source": [
        "- Objective:\n",
        "\n",
        "  Scraper les donnees des page en utilisant beautiful soup\n",
        "\n",
        "  url 3 : https://sn.coinafrique.com/categorie/appartements\n",
        "\n",
        "  Varibale1 : nombre pieces, Varibale2 : prix , Varibale3 : adresse, Variable4 : image_lien"
      ],
      "metadata": {
        "id": "mQdAd2KCRk1J"
      }
    },
    {
      "cell_type": "code",
      "source": [],
      "metadata": {
        "id": "-bQ8swzrRj8L"
      },
      "execution_count": null,
      "outputs": []
    },
    {
      "cell_type": "code",
      "execution_count": 15,
      "metadata": {
        "id": "yvXDkkrb2R-0"
      },
      "outputs": [],
      "source": [
        "# import les packages\n",
        "import pandas as pd\n",
        "import numpy as np\n",
        "from requests import get  # fonction permettant de récupérer le code html de la page\n",
        "from bs4 import BeautifulSoup as bs # # fonction permettant de stocker le code html en objet Beautifulsoup"
      ]
    },
    {
      "cell_type": "code",
      "source": [
        "#url de la page\n",
        "\n",
        "url = 'https://sn.coinafrique.com/categorie/villas'\n",
        "res = get(url) #recuperons de code html\n",
        "soup = bs(res.text, 'html.parser') #stockons le code html en objet bs\n",
        "containers = soup.find_all('div', class_ = 'col s6 m4 l3') #recuperons les tag div de class column four-fifth"
      ],
      "metadata": {
        "id": "nmvINC3Q28aN"
      },
      "execution_count": 16,
      "outputs": []
    },
    {
      "cell_type": "code",
      "source": [
        "len(containers)"
      ],
      "metadata": {
        "colab": {
          "base_uri": "https://localhost:8080/"
        },
        "id": "30V9_Ku85xnt",
        "outputId": "b6eef0b3-c754-4750-fcc4-d18f9bd02f28"
      },
      "execution_count": 17,
      "outputs": [
        {
          "output_type": "execute_result",
          "data": {
            "text/plain": [
              "84"
            ]
          },
          "metadata": {},
          "execution_count": 17
        }
      ]
    },
    {
      "cell_type": "code",
      "source": [
        "container = containers[0]\n",
        "container"
      ],
      "metadata": {
        "colab": {
          "base_uri": "https://localhost:8080/"
        },
        "id": "IWt_mFTf55vR",
        "outputId": "a4258d5c-f582-4c70-a420-2afd1f420149"
      },
      "execution_count": 18,
      "outputs": [
        {
          "output_type": "execute_result",
          "data": {
            "text/plain": [
              "<div class=\"col s6 m4 l3\"><div class=\"card ad__card round small hoverable undefined\"><a class=\"card-image ad__card-image waves-block waves-light\" data-is-top-ad-link=\"top\" data-view-origin-parent-tree=\"3\" href=\"/annonce/villas/vente-villa-8-pieces-dakar-zac-mbao-4548820\" title=\"Vente villa 8 pièces - Dakar Zac Mbao\"><img alt=\"Vente villa 8 pièces - Dakar Zac Mbao\" class=\"ad__card-img\" src=\"https://images.coinafrique.com/thumb_4548820_uploaded_image1_1705449133.jpg\"/><span class=\"btn-floating card-fav halfway-fab\" data-ad-category=\"Villas\" data-ad-price=\"100000000\" data-ad-title=\"Vente villa 8 pièces - Dakar Zac Mbao\" data-post-id=\"4548820\"><i class=\"material-icons white\">favorite_border</i></span><div class=\"card-title ad__card-timesince\"><i class=\"ion-android-time\"></i><span class=\"time\">43</span><span>minutes</span></div></a><div class=\"card-content ad__card-content\"><div><p class=\"ad__card-price\"><a data-is-top-ad-link=\"top\" data-view-origin-parent-tree=\"6\" href=\"/annonce/villas/vente-villa-8-pieces-dakar-zac-mbao-4548820\" title=\"Vente villa 8 pièces - Dakar Zac Mbao\">100 000 000<span>CFA</span></a></p><p class=\"ad__card-description\"><a data-is-top-ad-link=\"top\" data-view-origin-parent-tree=\"6\" href=\"/annonce/villas/vente-villa-8-pieces-dakar-zac-mbao-4548820\" title=\"Vente villa 8 pièces - Dakar Zac Mbao\">Vente villa 8 pièces - Dakar Zac Mbao</a></p><p class=\"ad__card-location\"><i class=\"material-icons\">location_on</i><span>Dakar, Sénégal</span></p></div><div class=\"card-action ad__card-action is-pro\"><a class=\"pro-contact-card\" data-ad-category=\"Villas\" data-ad-title=\"Vente villa 8 pièces - Dakar Zac Mbao\" data-post-id=\"4548820\" href=\"/profil/39996b8a-18bc-440e-87fd-7b0535c66831\" title=\"Visiter le profil de Amath Kane\"><div class=\"profile-picture\"><img alt=\"photo utilisateur\" class=\"pro-icon circle profile-card__img\" src=\"https://static.coinafrique.com/static/images/defaultUser.png\"/><p class=\"title\">Amath Kane</p></div><div class=\"profile-detail\"><img alt=\"Icone Professionel\" class=\"img pro-icon\" src=\"https://static.coinafrique.com/static/images/monetizations/pro-shop-blue.svg\"/></div></a></div></div></div></div>"
            ]
          },
          "metadata": {},
          "execution_count": 18
        }
      ]
    },
    {
      "cell_type": "code",
      "source": [
        "#Scraper les donnees sur une page\n",
        "types = container.find('p', class_ = 'ad__card-description').text.split(' ')\n",
        "types_annonces = types[0]\n",
        "Nombre_de_pieces = types[2]\n",
        "prix = container.find('p', class_ = 'ad__card-price').text.replace('CFA', '').replace(' ', '')\n",
        "address = container.find('p', class_ = 'ad__card-location').span.text.split(\",\")\n",
        "quartier = address[0]\n",
        "Ville = address[1]\n",
        "image_lien = container.find('img', class_ = 'ad__card-img')['src']\n",
        "\n"
      ],
      "metadata": {
        "id": "SqKBkzL-8RQ5"
      },
      "execution_count": 19,
      "outputs": []
    },
    {
      "cell_type": "code",
      "source": [
        "data = []\n",
        "for container in containers:\n",
        "  try:\n",
        "    #types = container.find('p', class_ = 'ad__card-description').text.split(' ')\n",
        "    #types_annonces = types[0]\n",
        "    #Nombre_de_pieces = types[2]\n",
        "    prix = container.find('p', class_ = 'ad__card-price').text.replace('CFA', '').replace(' ', '')\n",
        "    address = container.find('p', class_ = 'ad__card-location').span.text.split(\",\")\n",
        "    quartier = address[0]\n",
        "    Ville = address[1]\n",
        "    image_lien = container.find('img', class_ = 'ad__card-img')['src']\n",
        "    #on scrape avec les valeurs manquantes\n",
        "    try:\n",
        "      types = container.find('p', class_ = 'ad__card-description').text.split(' ')\n",
        "      types_annonces = types[0]\n",
        "    except:\n",
        "        types = container.find('p', class_ = 'ad__card-description').text.split(' ')\n",
        "        types_annonces = ''\n",
        "    try:\n",
        "      types = container.find('p', class_ = 'ad__card-description').text.split(' ')\n",
        "      Nombre_de_pieces = types[2]\n",
        "    except:\n",
        "      types = container.find('p', class_ = 'ad__card-description').text.split(' ')\n",
        "      Nombre_de_pieces = ''\n",
        "\n",
        "\n",
        "\n",
        "\n",
        "    obj = {\n",
        "        'types_annonces' : types_annonces,\n",
        "        'Nombres_de_pieces' : Nombre_de_pieces,\n",
        "        'prix' : prix,\n",
        "        'quartier' : quartier,\n",
        "        'Ville' : Ville,\n",
        "        'imgae_lien' : image_lien\n",
        "\n",
        "    }\n",
        "\n",
        "    data.append(obj)\n",
        "  except:\n",
        "    pass\n",
        "\n",
        "  DF = pd.DataFrame(data)"
      ],
      "metadata": {
        "id": "_YkWKn6qvFqI"
      },
      "execution_count": 33,
      "outputs": []
    },
    {
      "cell_type": "code",
      "source": [
        "DF.shape"
      ],
      "metadata": {
        "colab": {
          "base_uri": "https://localhost:8080/"
        },
        "id": "wxqo5-s6I1i1",
        "outputId": "ba17d957-4cf9-47a9-ab04-1f3b826b71b6"
      },
      "execution_count": 34,
      "outputs": [
        {
          "output_type": "execute_result",
          "data": {
            "text/plain": [
              "(84, 6)"
            ]
          },
          "metadata": {},
          "execution_count": 34
        }
      ]
    },
    {
      "cell_type": "code",
      "source": [
        "#Scrapons sur toutes les pages\n",
        "\n",
        "df = pd.DataFrame()\n",
        "for p in range(1,10):\n",
        "  url = f'https://sn.coinafrique.com/categorie/villas?page={p}'\n",
        "  res = get(url) #recuperons de code html\n",
        "  soup = bs(res.text, 'html.parser') #stockons le code html en objet bs\n",
        "  containers = soup.find_all('div', class_ = 'col s6 m4 l3') #recuperons les tag div de class column four-fifth\n",
        "  data = []\n",
        "\n",
        "  for container in containers:\n",
        "    try:\n",
        "      #types = container.find('p', class_ = 'ad__card-description').text.split(' ')\n",
        "      #types_annonces = types[0]\n",
        "      #Nombre_de_pieces = types[2]\n",
        "      prix = container.find('p', class_ = 'ad__card-price').text.replace('CFA', '').replace(' ', '')\n",
        "      address = container.find('p', class_ = 'ad__card-location').span.text.split(\",\")\n",
        "      quartier = address[0]\n",
        "      Ville = address[1]\n",
        "      image_lien = container.find('img', class_ = 'ad__card-img')['src']\n",
        "      try:\n",
        "        types = container.find('p', class_ = 'ad__card-description').text.split(' ')\n",
        "        types_annonces = types[0]\n",
        "\n",
        "      except:\n",
        "        types = container.find('p', class_ = 'ad__card-description').text.split(' ')\n",
        "        types_annonces = np.nan\n",
        "      try:\n",
        "        types = container.find('p', class_ = 'ad__card-description').text.split(' ')\n",
        "        Nombre_de_pieces = types[0]\n",
        "\n",
        "      except:\n",
        "        types = container.find('p', class_ = 'ad__card-description').text.split(' ')\n",
        "        Nombre_de_pieces = np.nan\n",
        "\n",
        "\n",
        "\n",
        "      obj = {\n",
        "          'types_annonces' : types_annonces,\n",
        "          'Nombres_de_pieces' : Nombre_de_pieces,\n",
        "          'prix' : prix,\n",
        "          'quartier' : quartier,\n",
        "          'Ville' : Ville,\n",
        "          'imgae_lien' : image_lien\n",
        "\n",
        "      }\n",
        "\n",
        "      data.append(obj)\n",
        "    except:\n",
        "      pass\n",
        "\n",
        "    DF = pd.DataFrame(data)\n",
        "    df = pd.concat([DF, df], axis = 0).reset_index(drop = True)\n"
      ],
      "metadata": {
        "id": "sxrFWjgYI1t7"
      },
      "execution_count": 38,
      "outputs": []
    },
    {
      "cell_type": "code",
      "source": [
        "df.shape"
      ],
      "metadata": {
        "colab": {
          "base_uri": "https://localhost:8080/"
        },
        "id": "JCrSBwtDI1vo",
        "outputId": "ac4204cc-4eaa-4941-eca4-c79f7a2d376f"
      },
      "execution_count": 39,
      "outputs": [
        {
          "output_type": "execute_result",
          "data": {
            "text/plain": [
              "(32130, 6)"
            ]
          },
          "metadata": {},
          "execution_count": 39
        }
      ]
    },
    {
      "cell_type": "code",
      "source": [
        "df.head(10)"
      ],
      "metadata": {
        "colab": {
          "base_uri": "https://localhost:8080/",
          "height": 363
        },
        "id": "La6ysJmDI1yN",
        "outputId": "9225c54d-c106-463e-8a8a-a3e9b9ccccf5"
      },
      "execution_count": 40,
      "outputs": [
        {
          "output_type": "execute_result",
          "data": {
            "text/plain": [
              "  types_annonces Nombres_de_pieces            prix     quartier     Ville  \\\n",
              "0          Vente             Vente  Prixsurdemande  Keur Massar   Sénégal   \n",
              "1       Location          Location          600000         Mbao     Dakar   \n",
              "2          Vente             Vente       170000000        Dakar   Sénégal   \n",
              "3       Location          Location         2500000     Mamelles     Dakar   \n",
              "4          Vente             Vente             180        Mbour   Sénégal   \n",
              "5          Vente             Vente        55000000         Saly   Sénégal   \n",
              "6       Location          Location          900000         Yoff     Dakar   \n",
              "7          Vente             Vente        39000000     Rufisque   Sénégal   \n",
              "8          Vente             Vente        50000000     Lac rose   Sénégal   \n",
              "9          Vente             Vente       105000000       Sipres     Dakar   \n",
              "\n",
              "                                          imgae_lien  \n",
              "0  https://images.coinafrique.com/thumb_4429417_u...  \n",
              "1  https://images.coinafrique.com/thumb_4429258_u...  \n",
              "2  https://images.coinafrique.com/thumb_4428729_u...  \n",
              "3  https://images.coinafrique.com/thumb_4393015_u...  \n",
              "4  https://images.coinafrique.com/thumb_4428469_u...  \n",
              "5  https://images.coinafrique.com/thumb_4427790_u...  \n",
              "6  https://images.coinafrique.com/thumb_4391617_u...  \n",
              "7  https://images.coinafrique.com/thumb_4426406_u...  \n",
              "8  https://images.coinafrique.com/thumb_4388487_u...  \n",
              "9  https://images.coinafrique.com/thumb_4426039_u...  "
            ],
            "text/html": [
              "\n",
              "  <div id=\"df-08eb2c58-a5ac-48ed-9467-f21b280871ab\" class=\"colab-df-container\">\n",
              "    <div>\n",
              "<style scoped>\n",
              "    .dataframe tbody tr th:only-of-type {\n",
              "        vertical-align: middle;\n",
              "    }\n",
              "\n",
              "    .dataframe tbody tr th {\n",
              "        vertical-align: top;\n",
              "    }\n",
              "\n",
              "    .dataframe thead th {\n",
              "        text-align: right;\n",
              "    }\n",
              "</style>\n",
              "<table border=\"1\" class=\"dataframe\">\n",
              "  <thead>\n",
              "    <tr style=\"text-align: right;\">\n",
              "      <th></th>\n",
              "      <th>types_annonces</th>\n",
              "      <th>Nombres_de_pieces</th>\n",
              "      <th>prix</th>\n",
              "      <th>quartier</th>\n",
              "      <th>Ville</th>\n",
              "      <th>imgae_lien</th>\n",
              "    </tr>\n",
              "  </thead>\n",
              "  <tbody>\n",
              "    <tr>\n",
              "      <th>0</th>\n",
              "      <td>Vente</td>\n",
              "      <td>Vente</td>\n",
              "      <td>Prixsurdemande</td>\n",
              "      <td>Keur Massar</td>\n",
              "      <td>Sénégal</td>\n",
              "      <td>https://images.coinafrique.com/thumb_4429417_u...</td>\n",
              "    </tr>\n",
              "    <tr>\n",
              "      <th>1</th>\n",
              "      <td>Location</td>\n",
              "      <td>Location</td>\n",
              "      <td>600000</td>\n",
              "      <td>Mbao</td>\n",
              "      <td>Dakar</td>\n",
              "      <td>https://images.coinafrique.com/thumb_4429258_u...</td>\n",
              "    </tr>\n",
              "    <tr>\n",
              "      <th>2</th>\n",
              "      <td>Vente</td>\n",
              "      <td>Vente</td>\n",
              "      <td>170000000</td>\n",
              "      <td>Dakar</td>\n",
              "      <td>Sénégal</td>\n",
              "      <td>https://images.coinafrique.com/thumb_4428729_u...</td>\n",
              "    </tr>\n",
              "    <tr>\n",
              "      <th>3</th>\n",
              "      <td>Location</td>\n",
              "      <td>Location</td>\n",
              "      <td>2500000</td>\n",
              "      <td>Mamelles</td>\n",
              "      <td>Dakar</td>\n",
              "      <td>https://images.coinafrique.com/thumb_4393015_u...</td>\n",
              "    </tr>\n",
              "    <tr>\n",
              "      <th>4</th>\n",
              "      <td>Vente</td>\n",
              "      <td>Vente</td>\n",
              "      <td>180</td>\n",
              "      <td>Mbour</td>\n",
              "      <td>Sénégal</td>\n",
              "      <td>https://images.coinafrique.com/thumb_4428469_u...</td>\n",
              "    </tr>\n",
              "    <tr>\n",
              "      <th>5</th>\n",
              "      <td>Vente</td>\n",
              "      <td>Vente</td>\n",
              "      <td>55000000</td>\n",
              "      <td>Saly</td>\n",
              "      <td>Sénégal</td>\n",
              "      <td>https://images.coinafrique.com/thumb_4427790_u...</td>\n",
              "    </tr>\n",
              "    <tr>\n",
              "      <th>6</th>\n",
              "      <td>Location</td>\n",
              "      <td>Location</td>\n",
              "      <td>900000</td>\n",
              "      <td>Yoff</td>\n",
              "      <td>Dakar</td>\n",
              "      <td>https://images.coinafrique.com/thumb_4391617_u...</td>\n",
              "    </tr>\n",
              "    <tr>\n",
              "      <th>7</th>\n",
              "      <td>Vente</td>\n",
              "      <td>Vente</td>\n",
              "      <td>39000000</td>\n",
              "      <td>Rufisque</td>\n",
              "      <td>Sénégal</td>\n",
              "      <td>https://images.coinafrique.com/thumb_4426406_u...</td>\n",
              "    </tr>\n",
              "    <tr>\n",
              "      <th>8</th>\n",
              "      <td>Vente</td>\n",
              "      <td>Vente</td>\n",
              "      <td>50000000</td>\n",
              "      <td>Lac rose</td>\n",
              "      <td>Sénégal</td>\n",
              "      <td>https://images.coinafrique.com/thumb_4388487_u...</td>\n",
              "    </tr>\n",
              "    <tr>\n",
              "      <th>9</th>\n",
              "      <td>Vente</td>\n",
              "      <td>Vente</td>\n",
              "      <td>105000000</td>\n",
              "      <td>Sipres</td>\n",
              "      <td>Dakar</td>\n",
              "      <td>https://images.coinafrique.com/thumb_4426039_u...</td>\n",
              "    </tr>\n",
              "  </tbody>\n",
              "</table>\n",
              "</div>\n",
              "    <div class=\"colab-df-buttons\">\n",
              "\n",
              "  <div class=\"colab-df-container\">\n",
              "    <button class=\"colab-df-convert\" onclick=\"convertToInteractive('df-08eb2c58-a5ac-48ed-9467-f21b280871ab')\"\n",
              "            title=\"Convert this dataframe to an interactive table.\"\n",
              "            style=\"display:none;\">\n",
              "\n",
              "  <svg xmlns=\"http://www.w3.org/2000/svg\" height=\"24px\" viewBox=\"0 -960 960 960\">\n",
              "    <path d=\"M120-120v-720h720v720H120Zm60-500h600v-160H180v160Zm220 220h160v-160H400v160Zm0 220h160v-160H400v160ZM180-400h160v-160H180v160Zm440 0h160v-160H620v160ZM180-180h160v-160H180v160Zm440 0h160v-160H620v160Z\"/>\n",
              "  </svg>\n",
              "    </button>\n",
              "\n",
              "  <style>\n",
              "    .colab-df-container {\n",
              "      display:flex;\n",
              "      gap: 12px;\n",
              "    }\n",
              "\n",
              "    .colab-df-convert {\n",
              "      background-color: #E8F0FE;\n",
              "      border: none;\n",
              "      border-radius: 50%;\n",
              "      cursor: pointer;\n",
              "      display: none;\n",
              "      fill: #1967D2;\n",
              "      height: 32px;\n",
              "      padding: 0 0 0 0;\n",
              "      width: 32px;\n",
              "    }\n",
              "\n",
              "    .colab-df-convert:hover {\n",
              "      background-color: #E2EBFA;\n",
              "      box-shadow: 0px 1px 2px rgba(60, 64, 67, 0.3), 0px 1px 3px 1px rgba(60, 64, 67, 0.15);\n",
              "      fill: #174EA6;\n",
              "    }\n",
              "\n",
              "    .colab-df-buttons div {\n",
              "      margin-bottom: 4px;\n",
              "    }\n",
              "\n",
              "    [theme=dark] .colab-df-convert {\n",
              "      background-color: #3B4455;\n",
              "      fill: #D2E3FC;\n",
              "    }\n",
              "\n",
              "    [theme=dark] .colab-df-convert:hover {\n",
              "      background-color: #434B5C;\n",
              "      box-shadow: 0px 1px 3px 1px rgba(0, 0, 0, 0.15);\n",
              "      filter: drop-shadow(0px 1px 2px rgba(0, 0, 0, 0.3));\n",
              "      fill: #FFFFFF;\n",
              "    }\n",
              "  </style>\n",
              "\n",
              "    <script>\n",
              "      const buttonEl =\n",
              "        document.querySelector('#df-08eb2c58-a5ac-48ed-9467-f21b280871ab button.colab-df-convert');\n",
              "      buttonEl.style.display =\n",
              "        google.colab.kernel.accessAllowed ? 'block' : 'none';\n",
              "\n",
              "      async function convertToInteractive(key) {\n",
              "        const element = document.querySelector('#df-08eb2c58-a5ac-48ed-9467-f21b280871ab');\n",
              "        const dataTable =\n",
              "          await google.colab.kernel.invokeFunction('convertToInteractive',\n",
              "                                                    [key], {});\n",
              "        if (!dataTable) return;\n",
              "\n",
              "        const docLinkHtml = 'Like what you see? Visit the ' +\n",
              "          '<a target=\"_blank\" href=https://colab.research.google.com/notebooks/data_table.ipynb>data table notebook</a>'\n",
              "          + ' to learn more about interactive tables.';\n",
              "        element.innerHTML = '';\n",
              "        dataTable['output_type'] = 'display_data';\n",
              "        await google.colab.output.renderOutput(dataTable, element);\n",
              "        const docLink = document.createElement('div');\n",
              "        docLink.innerHTML = docLinkHtml;\n",
              "        element.appendChild(docLink);\n",
              "      }\n",
              "    </script>\n",
              "  </div>\n",
              "\n",
              "\n",
              "<div id=\"df-d18da04f-b1f7-4516-86b1-c7c86a2949a5\">\n",
              "  <button class=\"colab-df-quickchart\" onclick=\"quickchart('df-d18da04f-b1f7-4516-86b1-c7c86a2949a5')\"\n",
              "            title=\"Suggest charts\"\n",
              "            style=\"display:none;\">\n",
              "\n",
              "<svg xmlns=\"http://www.w3.org/2000/svg\" height=\"24px\"viewBox=\"0 0 24 24\"\n",
              "     width=\"24px\">\n",
              "    <g>\n",
              "        <path d=\"M19 3H5c-1.1 0-2 .9-2 2v14c0 1.1.9 2 2 2h14c1.1 0 2-.9 2-2V5c0-1.1-.9-2-2-2zM9 17H7v-7h2v7zm4 0h-2V7h2v10zm4 0h-2v-4h2v4z\"/>\n",
              "    </g>\n",
              "</svg>\n",
              "  </button>\n",
              "\n",
              "<style>\n",
              "  .colab-df-quickchart {\n",
              "      --bg-color: #E8F0FE;\n",
              "      --fill-color: #1967D2;\n",
              "      --hover-bg-color: #E2EBFA;\n",
              "      --hover-fill-color: #174EA6;\n",
              "      --disabled-fill-color: #AAA;\n",
              "      --disabled-bg-color: #DDD;\n",
              "  }\n",
              "\n",
              "  [theme=dark] .colab-df-quickchart {\n",
              "      --bg-color: #3B4455;\n",
              "      --fill-color: #D2E3FC;\n",
              "      --hover-bg-color: #434B5C;\n",
              "      --hover-fill-color: #FFFFFF;\n",
              "      --disabled-bg-color: #3B4455;\n",
              "      --disabled-fill-color: #666;\n",
              "  }\n",
              "\n",
              "  .colab-df-quickchart {\n",
              "    background-color: var(--bg-color);\n",
              "    border: none;\n",
              "    border-radius: 50%;\n",
              "    cursor: pointer;\n",
              "    display: none;\n",
              "    fill: var(--fill-color);\n",
              "    height: 32px;\n",
              "    padding: 0;\n",
              "    width: 32px;\n",
              "  }\n",
              "\n",
              "  .colab-df-quickchart:hover {\n",
              "    background-color: var(--hover-bg-color);\n",
              "    box-shadow: 0 1px 2px rgba(60, 64, 67, 0.3), 0 1px 3px 1px rgba(60, 64, 67, 0.15);\n",
              "    fill: var(--button-hover-fill-color);\n",
              "  }\n",
              "\n",
              "  .colab-df-quickchart-complete:disabled,\n",
              "  .colab-df-quickchart-complete:disabled:hover {\n",
              "    background-color: var(--disabled-bg-color);\n",
              "    fill: var(--disabled-fill-color);\n",
              "    box-shadow: none;\n",
              "  }\n",
              "\n",
              "  .colab-df-spinner {\n",
              "    border: 2px solid var(--fill-color);\n",
              "    border-color: transparent;\n",
              "    border-bottom-color: var(--fill-color);\n",
              "    animation:\n",
              "      spin 1s steps(1) infinite;\n",
              "  }\n",
              "\n",
              "  @keyframes spin {\n",
              "    0% {\n",
              "      border-color: transparent;\n",
              "      border-bottom-color: var(--fill-color);\n",
              "      border-left-color: var(--fill-color);\n",
              "    }\n",
              "    20% {\n",
              "      border-color: transparent;\n",
              "      border-left-color: var(--fill-color);\n",
              "      border-top-color: var(--fill-color);\n",
              "    }\n",
              "    30% {\n",
              "      border-color: transparent;\n",
              "      border-left-color: var(--fill-color);\n",
              "      border-top-color: var(--fill-color);\n",
              "      border-right-color: var(--fill-color);\n",
              "    }\n",
              "    40% {\n",
              "      border-color: transparent;\n",
              "      border-right-color: var(--fill-color);\n",
              "      border-top-color: var(--fill-color);\n",
              "    }\n",
              "    60% {\n",
              "      border-color: transparent;\n",
              "      border-right-color: var(--fill-color);\n",
              "    }\n",
              "    80% {\n",
              "      border-color: transparent;\n",
              "      border-right-color: var(--fill-color);\n",
              "      border-bottom-color: var(--fill-color);\n",
              "    }\n",
              "    90% {\n",
              "      border-color: transparent;\n",
              "      border-bottom-color: var(--fill-color);\n",
              "    }\n",
              "  }\n",
              "</style>\n",
              "\n",
              "  <script>\n",
              "    async function quickchart(key) {\n",
              "      const quickchartButtonEl =\n",
              "        document.querySelector('#' + key + ' button');\n",
              "      quickchartButtonEl.disabled = true;  // To prevent multiple clicks.\n",
              "      quickchartButtonEl.classList.add('colab-df-spinner');\n",
              "      try {\n",
              "        const charts = await google.colab.kernel.invokeFunction(\n",
              "            'suggestCharts', [key], {});\n",
              "      } catch (error) {\n",
              "        console.error('Error during call to suggestCharts:', error);\n",
              "      }\n",
              "      quickchartButtonEl.classList.remove('colab-df-spinner');\n",
              "      quickchartButtonEl.classList.add('colab-df-quickchart-complete');\n",
              "    }\n",
              "    (() => {\n",
              "      let quickchartButtonEl =\n",
              "        document.querySelector('#df-d18da04f-b1f7-4516-86b1-c7c86a2949a5 button');\n",
              "      quickchartButtonEl.style.display =\n",
              "        google.colab.kernel.accessAllowed ? 'block' : 'none';\n",
              "    })();\n",
              "  </script>\n",
              "</div>\n",
              "\n",
              "    </div>\n",
              "  </div>\n"
            ]
          },
          "metadata": {},
          "execution_count": 40
        }
      ]
    },
    {
      "cell_type": "code",
      "source": [
        "\n"
      ],
      "metadata": {
        "id": "5QQ9i9apI12J"
      },
      "execution_count": 41,
      "outputs": []
    },
    {
      "cell_type": "code",
      "source": [],
      "metadata": {
        "id": "fkWgXf-JWz55"
      },
      "execution_count": null,
      "outputs": []
    }
  ]
}